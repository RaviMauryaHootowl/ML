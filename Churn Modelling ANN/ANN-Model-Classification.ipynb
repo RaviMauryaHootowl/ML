{
 "cells": [
  {
   "cell_type": "code",
   "execution_count": 1,
   "metadata": {},
   "outputs": [
    {
     "name": "stderr",
     "output_type": "stream",
     "text": [
      "Using TensorFlow backend.\n"
     ]
    }
   ],
   "source": [
    "# Importing Basic Libraries\n",
    "import numpy as np\n",
    "import matplotlib.pyplot as plt\n",
    "import pandas as pd\n",
    "from sklearn.preprocessing import LabelEncoder, OneHotEncoder, StandardScaler\n",
    "from sklearn.compose import ColumnTransformer\n",
    "from sklearn.model_selection import train_test_split\n",
    "import keras\n",
    "from keras.models import Sequential\n",
    "from keras.layers import Dense\n",
    "from sklearn.metrics import confusion_matrix"
   ]
  },
  {
   "cell_type": "code",
   "execution_count": 2,
   "metadata": {},
   "outputs": [],
   "source": [
    "# Reading the dataset\n",
    "dataset = pd.read_csv('Churn_Modelling.csv')"
   ]
  },
  {
   "cell_type": "code",
   "execution_count": 3,
   "metadata": {},
   "outputs": [
    {
     "data": {
      "text/html": [
       "<div>\n",
       "<style scoped>\n",
       "    .dataframe tbody tr th:only-of-type {\n",
       "        vertical-align: middle;\n",
       "    }\n",
       "\n",
       "    .dataframe tbody tr th {\n",
       "        vertical-align: top;\n",
       "    }\n",
       "\n",
       "    .dataframe thead th {\n",
       "        text-align: right;\n",
       "    }\n",
       "</style>\n",
       "<table border=\"1\" class=\"dataframe\">\n",
       "  <thead>\n",
       "    <tr style=\"text-align: right;\">\n",
       "      <th></th>\n",
       "      <th>RowNumber</th>\n",
       "      <th>CustomerId</th>\n",
       "      <th>Surname</th>\n",
       "      <th>CreditScore</th>\n",
       "      <th>Geography</th>\n",
       "      <th>Gender</th>\n",
       "      <th>Age</th>\n",
       "      <th>Tenure</th>\n",
       "      <th>Balance</th>\n",
       "      <th>NumOfProducts</th>\n",
       "      <th>HasCrCard</th>\n",
       "      <th>IsActiveMember</th>\n",
       "      <th>EstimatedSalary</th>\n",
       "      <th>Exited</th>\n",
       "    </tr>\n",
       "  </thead>\n",
       "  <tbody>\n",
       "    <tr>\n",
       "      <th>0</th>\n",
       "      <td>1</td>\n",
       "      <td>15634602</td>\n",
       "      <td>Hargrave</td>\n",
       "      <td>619</td>\n",
       "      <td>France</td>\n",
       "      <td>Female</td>\n",
       "      <td>42</td>\n",
       "      <td>2</td>\n",
       "      <td>0.00</td>\n",
       "      <td>1</td>\n",
       "      <td>1</td>\n",
       "      <td>1</td>\n",
       "      <td>101348.88</td>\n",
       "      <td>1</td>\n",
       "    </tr>\n",
       "    <tr>\n",
       "      <th>1</th>\n",
       "      <td>2</td>\n",
       "      <td>15647311</td>\n",
       "      <td>Hill</td>\n",
       "      <td>608</td>\n",
       "      <td>Spain</td>\n",
       "      <td>Female</td>\n",
       "      <td>41</td>\n",
       "      <td>1</td>\n",
       "      <td>83807.86</td>\n",
       "      <td>1</td>\n",
       "      <td>0</td>\n",
       "      <td>1</td>\n",
       "      <td>112542.58</td>\n",
       "      <td>0</td>\n",
       "    </tr>\n",
       "    <tr>\n",
       "      <th>2</th>\n",
       "      <td>3</td>\n",
       "      <td>15619304</td>\n",
       "      <td>Onio</td>\n",
       "      <td>502</td>\n",
       "      <td>France</td>\n",
       "      <td>Female</td>\n",
       "      <td>42</td>\n",
       "      <td>8</td>\n",
       "      <td>159660.80</td>\n",
       "      <td>3</td>\n",
       "      <td>1</td>\n",
       "      <td>0</td>\n",
       "      <td>113931.57</td>\n",
       "      <td>1</td>\n",
       "    </tr>\n",
       "    <tr>\n",
       "      <th>3</th>\n",
       "      <td>4</td>\n",
       "      <td>15701354</td>\n",
       "      <td>Boni</td>\n",
       "      <td>699</td>\n",
       "      <td>France</td>\n",
       "      <td>Female</td>\n",
       "      <td>39</td>\n",
       "      <td>1</td>\n",
       "      <td>0.00</td>\n",
       "      <td>2</td>\n",
       "      <td>0</td>\n",
       "      <td>0</td>\n",
       "      <td>93826.63</td>\n",
       "      <td>0</td>\n",
       "    </tr>\n",
       "    <tr>\n",
       "      <th>4</th>\n",
       "      <td>5</td>\n",
       "      <td>15737888</td>\n",
       "      <td>Mitchell</td>\n",
       "      <td>850</td>\n",
       "      <td>Spain</td>\n",
       "      <td>Female</td>\n",
       "      <td>43</td>\n",
       "      <td>2</td>\n",
       "      <td>125510.82</td>\n",
       "      <td>1</td>\n",
       "      <td>1</td>\n",
       "      <td>1</td>\n",
       "      <td>79084.10</td>\n",
       "      <td>0</td>\n",
       "    </tr>\n",
       "  </tbody>\n",
       "</table>\n",
       "</div>"
      ],
      "text/plain": [
       "   RowNumber  CustomerId   Surname  CreditScore Geography  Gender  Age  \\\n",
       "0          1    15634602  Hargrave          619    France  Female   42   \n",
       "1          2    15647311      Hill          608     Spain  Female   41   \n",
       "2          3    15619304      Onio          502    France  Female   42   \n",
       "3          4    15701354      Boni          699    France  Female   39   \n",
       "4          5    15737888  Mitchell          850     Spain  Female   43   \n",
       "\n",
       "   Tenure    Balance  NumOfProducts  HasCrCard  IsActiveMember  \\\n",
       "0       2       0.00              1          1               1   \n",
       "1       1   83807.86              1          0               1   \n",
       "2       8  159660.80              3          1               0   \n",
       "3       1       0.00              2          0               0   \n",
       "4       2  125510.82              1          1               1   \n",
       "\n",
       "   EstimatedSalary  Exited  \n",
       "0        101348.88       1  \n",
       "1        112542.58       0  \n",
       "2        113931.57       1  \n",
       "3         93826.63       0  \n",
       "4         79084.10       0  "
      ]
     },
     "execution_count": 3,
     "metadata": {},
     "output_type": "execute_result"
    }
   ],
   "source": [
    "dataset.head()"
   ]
  },
  {
   "cell_type": "code",
   "execution_count": 4,
   "metadata": {},
   "outputs": [],
   "source": [
    "# Splitting the dataset and converting into array\n",
    "\n",
    "X = dataset.iloc[: , 3:13].values   # from CreditScore to Estimated Salary\n",
    "y = dataset.iloc[:, 13].values      # only Exited"
   ]
  },
  {
   "cell_type": "code",
   "execution_count": 5,
   "metadata": {},
   "outputs": [
    {
     "data": {
      "text/plain": [
       "array([[619, 'France', 'Female', ..., 1, 1, 101348.88],\n",
       "       [608, 'Spain', 'Female', ..., 0, 1, 112542.58],\n",
       "       [502, 'France', 'Female', ..., 1, 0, 113931.57],\n",
       "       ...,\n",
       "       [709, 'France', 'Female', ..., 0, 1, 42085.58],\n",
       "       [772, 'Germany', 'Male', ..., 1, 0, 92888.52],\n",
       "       [792, 'France', 'Female', ..., 1, 0, 38190.78]], dtype=object)"
      ]
     },
     "execution_count": 5,
     "metadata": {},
     "output_type": "execute_result"
    }
   ],
   "source": [
    "X"
   ]
  },
  {
   "cell_type": "code",
   "execution_count": 6,
   "metadata": {},
   "outputs": [
    {
     "data": {
      "text/plain": [
       "array([1, 0, 1, ..., 1, 1, 0], dtype=int64)"
      ]
     },
     "execution_count": 6,
     "metadata": {},
     "output_type": "execute_result"
    }
   ],
   "source": [
    "y"
   ]
  },
  {
   "cell_type": "code",
   "execution_count": 7,
   "metadata": {},
   "outputs": [
    {
     "data": {
      "text/plain": [
       "' Now we need to do Label Encoding and One Hot Encoding '"
      ]
     },
     "execution_count": 7,
     "metadata": {},
     "output_type": "execute_result"
    }
   ],
   "source": [
    "''' Now we need to do Label Encoding and One Hot Encoding '''"
   ]
  },
  {
   "cell_type": "code",
   "execution_count": 8,
   "metadata": {},
   "outputs": [],
   "source": [
    "# First we will do Label Encoding in Gender Column\n",
    "# For this we need to create a LabelEncoder\n",
    "\n",
    "label_encoder = LabelEncoder()\n",
    "X[:, 2] = label_encoder.fit_transform(X[:, 2])\n",
    "\n",
    "# here female became 0 and male became 1"
   ]
  },
  {
   "cell_type": "code",
   "execution_count": 9,
   "metadata": {},
   "outputs": [
    {
     "data": {
      "text/plain": [
       "array([[619, 'France', 0, ..., 1, 1, 101348.88],\n",
       "       [608, 'Spain', 0, ..., 0, 1, 112542.58],\n",
       "       [502, 'France', 0, ..., 1, 0, 113931.57],\n",
       "       ...,\n",
       "       [709, 'France', 0, ..., 0, 1, 42085.58],\n",
       "       [772, 'Germany', 1, ..., 1, 0, 92888.52],\n",
       "       [792, 'France', 0, ..., 1, 0, 38190.78]], dtype=object)"
      ]
     },
     "execution_count": 9,
     "metadata": {},
     "output_type": "execute_result"
    }
   ],
   "source": [
    "X"
   ]
  },
  {
   "cell_type": "code",
   "execution_count": 10,
   "metadata": {},
   "outputs": [],
   "source": [
    "# now for countries we need to Label Encode and then Hot Encode ( for dummy variables )\n",
    "# so we can use directly ColumnTransformer \n",
    "\n",
    "ct1 = ColumnTransformer(transformers=[('oh', OneHotEncoder(), [1])], remainder='passthrough')\n",
    "X = ct1.fit_transform(X)"
   ]
  },
  {
   "cell_type": "code",
   "execution_count": 11,
   "metadata": {},
   "outputs": [
    {
     "data": {
      "text/plain": [
       "array([[1.0, 0.0, 0.0, ..., 1, 1, 101348.88],\n",
       "       [0.0, 0.0, 1.0, ..., 0, 1, 112542.58],\n",
       "       [1.0, 0.0, 0.0, ..., 1, 0, 113931.57],\n",
       "       ...,\n",
       "       [1.0, 0.0, 0.0, ..., 0, 1, 42085.58],\n",
       "       [0.0, 1.0, 0.0, ..., 1, 0, 92888.52],\n",
       "       [1.0, 0.0, 0.0, ..., 1, 0, 38190.78]], dtype=object)"
      ]
     },
     "execution_count": 11,
     "metadata": {},
     "output_type": "execute_result"
    }
   ],
   "source": [
    "X     \n",
    "#now to columns becomes['France', 'Germany', 'Spain', 'CreditScore', 'Gender', 'Age', 'Tenure', 'Balance', 'NumOfProducts',\n",
    "#                       'HasCrCard', 'IsActiveMember', 'Estimated Salary']"
   ]
  },
  {
   "cell_type": "code",
   "execution_count": 12,
   "metadata": {},
   "outputs": [],
   "source": [
    "# but to avoid the dummy variable trap... let's remove the first column"
   ]
  },
  {
   "cell_type": "code",
   "execution_count": 13,
   "metadata": {},
   "outputs": [],
   "source": [
    "X = X[:, 1:]"
   ]
  },
  {
   "cell_type": "code",
   "execution_count": 14,
   "metadata": {},
   "outputs": [
    {
     "data": {
      "text/plain": [
       "array([[0.0, 0.0, 619, ..., 1, 1, 101348.88],\n",
       "       [0.0, 1.0, 608, ..., 0, 1, 112542.58],\n",
       "       [0.0, 0.0, 502, ..., 1, 0, 113931.57],\n",
       "       ...,\n",
       "       [0.0, 0.0, 709, ..., 0, 1, 42085.58],\n",
       "       [1.0, 0.0, 772, ..., 1, 0, 92888.52],\n",
       "       [0.0, 0.0, 792, ..., 1, 0, 38190.78]], dtype=object)"
      ]
     },
     "execution_count": 14,
     "metadata": {},
     "output_type": "execute_result"
    }
   ],
   "source": [
    "X\n",
    "#now to columns becomes['Germany', 'Spain', 'CreditScore', 'Gender', 'Age', 'Tenure', 'Balance', 'NumOfProducts',\n",
    "#                       'HasCrCard', 'IsActiveMember', 'Estimated Salary']"
   ]
  },
  {
   "cell_type": "code",
   "execution_count": 15,
   "metadata": {},
   "outputs": [
    {
     "data": {
      "text/plain": [
       "'  NOW LETS SPLIT THE DATASET INTO TRAIN AND TEST  '"
      ]
     },
     "execution_count": 15,
     "metadata": {},
     "output_type": "execute_result"
    }
   ],
   "source": [
    "'''  NOW LETS SPLIT THE DATASET INTO TRAIN AND TEST  '''"
   ]
  },
  {
   "cell_type": "code",
   "execution_count": 16,
   "metadata": {},
   "outputs": [],
   "source": [
    "X_train, X_test, y_train, y_test = train_test_split(X, y, test_size=0.2, random_state = 0)"
   ]
  },
  {
   "cell_type": "code",
   "execution_count": 17,
   "metadata": {},
   "outputs": [
    {
     "name": "stdout",
     "output_type": "stream",
     "text": [
      "Training size:  8000\n",
      "Testing size:  2000\n"
     ]
    }
   ],
   "source": [
    "print('Training size: ' , len(X_train))\n",
    "print('Testing size: ' , len(X_test))"
   ]
  },
  {
   "cell_type": "code",
   "execution_count": 18,
   "metadata": {},
   "outputs": [
    {
     "data": {
      "text/plain": [
       "'FEATURE SCALING '"
      ]
     },
     "execution_count": 18,
     "metadata": {},
     "output_type": "execute_result"
    }
   ],
   "source": [
    "'''FEATURE SCALING '''"
   ]
  },
  {
   "cell_type": "code",
   "execution_count": 19,
   "metadata": {},
   "outputs": [],
   "source": [
    "sc = StandardScaler()\n",
    "X_train = sc.fit_transform(X_train)\n",
    "X_test = sc.transform(X_test)"
   ]
  },
  {
   "cell_type": "code",
   "execution_count": 20,
   "metadata": {
    "scrolled": true
   },
   "outputs": [
    {
     "data": {
      "text/plain": [
       "array([[-0.5698444 ,  1.74309049,  0.16958176, ...,  0.64259497,\n",
       "        -1.03227043,  1.10643166],\n",
       "       [ 1.75486502, -0.57369368, -2.30455945, ...,  0.64259497,\n",
       "         0.9687384 , -0.74866447],\n",
       "       [-0.5698444 , -0.57369368, -1.19119591, ...,  0.64259497,\n",
       "        -1.03227043,  1.48533467],\n",
       "       ...,\n",
       "       [-0.5698444 , -0.57369368,  0.9015152 , ...,  0.64259497,\n",
       "        -1.03227043,  1.41231994],\n",
       "       [-0.5698444 ,  1.74309049, -0.62420521, ...,  0.64259497,\n",
       "         0.9687384 ,  0.84432121],\n",
       "       [ 1.75486502, -0.57369368, -0.28401079, ...,  0.64259497,\n",
       "        -1.03227043,  0.32472465]])"
      ]
     },
     "execution_count": 20,
     "metadata": {},
     "output_type": "execute_result"
    }
   ],
   "source": [
    "X_train"
   ]
  },
  {
   "cell_type": "code",
   "execution_count": 21,
   "metadata": {},
   "outputs": [],
   "source": [
    "#-------------------------- ANN Step ----------------------------"
   ]
  },
  {
   "cell_type": "code",
   "execution_count": 22,
   "metadata": {},
   "outputs": [],
   "source": [
    "# Initializing the ANN Model\n",
    "# We can call the model anything, but since we are doing classification let's call it classifier\n",
    "\n",
    "classifier = Sequential()"
   ]
  },
  {
   "cell_type": "code",
   "execution_count": 23,
   "metadata": {},
   "outputs": [],
   "source": [
    "# Adding the input layer and the first hidden layer\n",
    "\n",
    "classifier.add(Dense(6, input_dim = 11, kernel_initializer = 'uniform', activation = 'relu'))"
   ]
  },
  {
   "cell_type": "code",
   "execution_count": 24,
   "metadata": {},
   "outputs": [],
   "source": [
    "classifier.add(Dense(6, kernel_initializer = 'uniform', activation = 'relu'))"
   ]
  },
  {
   "cell_type": "code",
   "execution_count": 25,
   "metadata": {},
   "outputs": [],
   "source": [
    "# output layer\n",
    "classifier.add(Dense(1, kernel_initializer = 'uniform', activation = 'sigmoid'))"
   ]
  },
  {
   "cell_type": "code",
   "execution_count": 26,
   "metadata": {},
   "outputs": [],
   "source": [
    "classifier.compile(optimizer='adam', loss='binary_crossentropy', metrics=['accuracy'])"
   ]
  },
  {
   "cell_type": "code",
   "execution_count": 27,
   "metadata": {},
   "outputs": [
    {
     "name": "stdout",
     "output_type": "stream",
     "text": [
      "Train on 7200 samples, validate on 800 samples\n",
      "Epoch 1/300\n",
      "7200/7200 [==============================] - 1s 145us/step - loss: 0.5582 - accuracy: 0.7950 - val_loss: 0.4336 - val_accuracy: 0.7950\n",
      "Epoch 2/300\n",
      "7200/7200 [==============================] - 1s 73us/step - loss: 0.4361 - accuracy: 0.7961 - val_loss: 0.4215 - val_accuracy: 0.7950\n",
      "Epoch 3/300\n",
      "7200/7200 [==============================] - 1s 70us/step - loss: 0.4312 - accuracy: 0.7961 - val_loss: 0.4172 - val_accuracy: 0.7950\n",
      "Epoch 4/300\n",
      "7200/7200 [==============================] - 1s 70us/step - loss: 0.4285 - accuracy: 0.7961 - val_loss: 0.4137 - val_accuracy: 0.7950\n",
      "Epoch 5/300\n",
      "7200/7200 [==============================] - 1s 71us/step - loss: 0.4260 - accuracy: 0.7961 - val_loss: 0.4102 - val_accuracy: 0.7950\n",
      "Epoch 6/300\n",
      "7200/7200 [==============================] - 1s 70us/step - loss: 0.4235 - accuracy: 0.7961 - val_loss: 0.4057 - val_accuracy: 0.7950\n",
      "Epoch 7/300\n",
      "7200/7200 [==============================] - 1s 73us/step - loss: 0.4216 - accuracy: 0.8074 - val_loss: 0.4033 - val_accuracy: 0.8238\n",
      "Epoch 8/300\n",
      "7200/7200 [==============================] - 1s 79us/step - loss: 0.4204 - accuracy: 0.8174 - val_loss: 0.4006 - val_accuracy: 0.8250\n",
      "Epoch 9/300\n",
      "7200/7200 [==============================] - 1s 83us/step - loss: 0.4192 - accuracy: 0.8203 - val_loss: 0.3991 - val_accuracy: 0.8363\n",
      "Epoch 10/300\n",
      "7200/7200 [==============================] - 1s 83us/step - loss: 0.4179 - accuracy: 0.8253 - val_loss: 0.3983 - val_accuracy: 0.8375\n",
      "Epoch 11/300\n",
      "7200/7200 [==============================] - 1s 82us/step - loss: 0.4170 - accuracy: 0.8257 - val_loss: 0.3965 - val_accuracy: 0.8363\n",
      "Epoch 12/300\n",
      "7200/7200 [==============================] - 1s 83us/step - loss: 0.4162 - accuracy: 0.8278 - val_loss: 0.3958 - val_accuracy: 0.8375\n",
      "Epoch 13/300\n",
      "7200/7200 [==============================] - 1s 82us/step - loss: 0.4155 - accuracy: 0.8283 - val_loss: 0.3944 - val_accuracy: 0.8413\n",
      "Epoch 14/300\n",
      "7200/7200 [==============================] - 1s 80us/step - loss: 0.4147 - accuracy: 0.8282 - val_loss: 0.3933 - val_accuracy: 0.8425\n",
      "Epoch 15/300\n",
      "7200/7200 [==============================] - 1s 86us/step - loss: 0.4138 - accuracy: 0.8297 - val_loss: 0.3920 - val_accuracy: 0.8388\n",
      "Epoch 16/300\n",
      "7200/7200 [==============================] - 1s 83us/step - loss: 0.4134 - accuracy: 0.8286 - val_loss: 0.3922 - val_accuracy: 0.8425\n",
      "Epoch 17/300\n",
      "7200/7200 [==============================] - 1s 82us/step - loss: 0.4132 - accuracy: 0.8296 - val_loss: 0.3904 - val_accuracy: 0.8425\n",
      "Epoch 18/300\n",
      "7200/7200 [==============================] - 1s 83us/step - loss: 0.4124 - accuracy: 0.8300 - val_loss: 0.3920 - val_accuracy: 0.8462\n",
      "Epoch 19/300\n",
      "7200/7200 [==============================] - 1s 96us/step - loss: 0.4123 - accuracy: 0.8315 - val_loss: 0.3894 - val_accuracy: 0.8450\n",
      "Epoch 20/300\n",
      "7200/7200 [==============================] - 1s 83us/step - loss: 0.4116 - accuracy: 0.8319 - val_loss: 0.3892 - val_accuracy: 0.8450\n",
      "Epoch 21/300\n",
      "7200/7200 [==============================] - 1s 83us/step - loss: 0.4112 - accuracy: 0.8315 - val_loss: 0.3877 - val_accuracy: 0.8438\n",
      "Epoch 22/300\n",
      "7200/7200 [==============================] - 1s 81us/step - loss: 0.4110 - accuracy: 0.8325 - val_loss: 0.3871 - val_accuracy: 0.8425\n",
      "Epoch 23/300\n",
      "7200/7200 [==============================] - 1s 79us/step - loss: 0.4104 - accuracy: 0.8332 - val_loss: 0.3864 - val_accuracy: 0.8425\n",
      "Epoch 24/300\n",
      "7200/7200 [==============================] - 1s 79us/step - loss: 0.4101 - accuracy: 0.8335 - val_loss: 0.3862 - val_accuracy: 0.8388\n",
      "Epoch 25/300\n",
      "7200/7200 [==============================] - 1s 80us/step - loss: 0.4095 - accuracy: 0.8332 - val_loss: 0.3855 - val_accuracy: 0.8438\n",
      "Epoch 26/300\n",
      "7200/7200 [==============================] - 1s 79us/step - loss: 0.4095 - accuracy: 0.8328 - val_loss: 0.3857 - val_accuracy: 0.8450\n",
      "Epoch 27/300\n",
      "7200/7200 [==============================] - 1s 79us/step - loss: 0.4089 - accuracy: 0.8335 - val_loss: 0.3864 - val_accuracy: 0.8462\n",
      "Epoch 28/300\n",
      "7200/7200 [==============================] - 1s 78us/step - loss: 0.4085 - accuracy: 0.8336 - val_loss: 0.3843 - val_accuracy: 0.8462\n",
      "Epoch 29/300\n",
      "7200/7200 [==============================] - 1s 78us/step - loss: 0.4081 - accuracy: 0.8339 - val_loss: 0.3854 - val_accuracy: 0.8475\n",
      "Epoch 30/300\n",
      "7200/7200 [==============================] - 1s 79us/step - loss: 0.4084 - accuracy: 0.8350 - val_loss: 0.3843 - val_accuracy: 0.8438\n",
      "Epoch 31/300\n",
      "7200/7200 [==============================] - 1s 78us/step - loss: 0.4081 - accuracy: 0.8347 - val_loss: 0.3863 - val_accuracy: 0.8500\n",
      "Epoch 32/300\n",
      "7200/7200 [==============================] - 1s 74us/step - loss: 0.4073 - accuracy: 0.8342 - val_loss: 0.3834 - val_accuracy: 0.8425\n",
      "Epoch 33/300\n",
      "7200/7200 [==============================] - 1s 78us/step - loss: 0.4073 - accuracy: 0.8346 - val_loss: 0.3836 - val_accuracy: 0.8425\n",
      "Epoch 34/300\n",
      "7200/7200 [==============================] - 1s 78us/step - loss: 0.4073 - accuracy: 0.8339 - val_loss: 0.3842 - val_accuracy: 0.8425\n",
      "Epoch 35/300\n",
      "7200/7200 [==============================] - 1s 78us/step - loss: 0.4071 - accuracy: 0.8347 - val_loss: 0.3829 - val_accuracy: 0.8425\n",
      "Epoch 36/300\n",
      "7200/7200 [==============================] - 1s 81us/step - loss: 0.4068 - accuracy: 0.8356 - val_loss: 0.3837 - val_accuracy: 0.8475\n",
      "Epoch 37/300\n",
      "7200/7200 [==============================] - 1s 78us/step - loss: 0.4069 - accuracy: 0.8338 - val_loss: 0.3839 - val_accuracy: 0.8500\n",
      "Epoch 38/300\n",
      "7200/7200 [==============================] - 1s 81us/step - loss: 0.4067 - accuracy: 0.8333 - val_loss: 0.3834 - val_accuracy: 0.8425\n",
      "Epoch 39/300\n",
      "7200/7200 [==============================] - 1s 89us/step - loss: 0.4062 - accuracy: 0.8336 - val_loss: 0.3832 - val_accuracy: 0.8450\n",
      "Epoch 40/300\n",
      "7200/7200 [==============================] - 1s 91us/step - loss: 0.4061 - accuracy: 0.8339 - val_loss: 0.3832 - val_accuracy: 0.8425\n",
      "Epoch 41/300\n",
      "7200/7200 [==============================] - 1s 82us/step - loss: 0.4061 - accuracy: 0.8339 - val_loss: 0.3832 - val_accuracy: 0.8400\n",
      "Epoch 42/300\n",
      "7200/7200 [==============================] - 1s 83us/step - loss: 0.4056 - accuracy: 0.8332 - val_loss: 0.3833 - val_accuracy: 0.8413\n",
      "Epoch 43/300\n",
      "7200/7200 [==============================] - 1s 83us/step - loss: 0.4058 - accuracy: 0.8344 - val_loss: 0.3832 - val_accuracy: 0.8475\n",
      "Epoch 44/300\n",
      "7200/7200 [==============================] - 1s 81us/step - loss: 0.4054 - accuracy: 0.8335 - val_loss: 0.3817 - val_accuracy: 0.8450\n",
      "Epoch 45/300\n",
      "7200/7200 [==============================] - 1s 82us/step - loss: 0.4057 - accuracy: 0.8326 - val_loss: 0.3822 - val_accuracy: 0.8425\n",
      "Epoch 46/300\n",
      "7200/7200 [==============================] - 1s 86us/step - loss: 0.4052 - accuracy: 0.8340 - val_loss: 0.3819 - val_accuracy: 0.8450\n",
      "Epoch 47/300\n",
      "7200/7200 [==============================] - 1s 80us/step - loss: 0.4054 - accuracy: 0.8328 - val_loss: 0.3829 - val_accuracy: 0.8462\n",
      "Epoch 48/300\n",
      "7200/7200 [==============================] - 1s 84us/step - loss: 0.4051 - accuracy: 0.8338 - val_loss: 0.3832 - val_accuracy: 0.8462\n",
      "Epoch 49/300\n",
      "7200/7200 [==============================] - 1s 81us/step - loss: 0.4054 - accuracy: 0.8332 - val_loss: 0.3838 - val_accuracy: 0.8462\n",
      "Epoch 50/300\n",
      "7200/7200 [==============================] - 1s 82us/step - loss: 0.4049 - accuracy: 0.8331 - val_loss: 0.3829 - val_accuracy: 0.8438\n",
      "Epoch 51/300\n",
      "7200/7200 [==============================] - 1s 82us/step - loss: 0.4049 - accuracy: 0.8333 - val_loss: 0.3827 - val_accuracy: 0.8425\n",
      "Epoch 52/300\n",
      "7200/7200 [==============================] - 1s 92us/step - loss: 0.4046 - accuracy: 0.8338 - val_loss: 0.3821 - val_accuracy: 0.8438\n",
      "Epoch 53/300\n",
      "7200/7200 [==============================] - 1s 87us/step - loss: 0.4047 - accuracy: 0.8322 - val_loss: 0.3818 - val_accuracy: 0.8462\n",
      "Epoch 54/300\n",
      "7200/7200 [==============================] - 1s 82us/step - loss: 0.4048 - accuracy: 0.8332 - val_loss: 0.3823 - val_accuracy: 0.8475\n",
      "Epoch 55/300\n",
      "7200/7200 [==============================] - 1s 79us/step - loss: 0.4047 - accuracy: 0.8336 - val_loss: 0.3825 - val_accuracy: 0.8462\n",
      "Epoch 56/300\n"
     ]
    },
    {
     "name": "stdout",
     "output_type": "stream",
     "text": [
      "7200/7200 [==============================] - 1s 78us/step - loss: 0.4046 - accuracy: 0.8319 - val_loss: 0.3821 - val_accuracy: 0.8450\n",
      "Epoch 57/300\n",
      "7200/7200 [==============================] - 1s 78us/step - loss: 0.4046 - accuracy: 0.8326 - val_loss: 0.3827 - val_accuracy: 0.8450\n",
      "Epoch 58/300\n",
      "7200/7200 [==============================] - 1s 73us/step - loss: 0.4042 - accuracy: 0.8343 - val_loss: 0.3830 - val_accuracy: 0.8438\n",
      "Epoch 59/300\n",
      "7200/7200 [==============================] - 1s 75us/step - loss: 0.4042 - accuracy: 0.8328 - val_loss: 0.3812 - val_accuracy: 0.8450\n",
      "Epoch 60/300\n",
      "7200/7200 [==============================] - 1s 75us/step - loss: 0.4042 - accuracy: 0.8340 - val_loss: 0.3811 - val_accuracy: 0.8450\n",
      "Epoch 61/300\n",
      "7200/7200 [==============================] - 1s 77us/step - loss: 0.4044 - accuracy: 0.8329 - val_loss: 0.3819 - val_accuracy: 0.8475\n",
      "Epoch 62/300\n",
      "7200/7200 [==============================] - 1s 80us/step - loss: 0.4038 - accuracy: 0.8338 - val_loss: 0.3813 - val_accuracy: 0.8413\n",
      "Epoch 63/300\n",
      "7200/7200 [==============================] - 0s 67us/step - loss: 0.4042 - accuracy: 0.8331 - val_loss: 0.3815 - val_accuracy: 0.8487\n",
      "Epoch 64/300\n",
      "7200/7200 [==============================] - 0s 68us/step - loss: 0.4042 - accuracy: 0.8322 - val_loss: 0.3818 - val_accuracy: 0.8438\n",
      "Epoch 65/300\n",
      "7200/7200 [==============================] - 1s 72us/step - loss: 0.4039 - accuracy: 0.8333 - val_loss: 0.3819 - val_accuracy: 0.8475\n",
      "Epoch 66/300\n",
      "7200/7200 [==============================] - 0s 69us/step - loss: 0.4041 - accuracy: 0.8335 - val_loss: 0.3815 - val_accuracy: 0.8425\n",
      "Epoch 67/300\n",
      "7200/7200 [==============================] - 1s 70us/step - loss: 0.4041 - accuracy: 0.8338 - val_loss: 0.3804 - val_accuracy: 0.8425\n",
      "Epoch 68/300\n",
      "7200/7200 [==============================] - 0s 69us/step - loss: 0.4039 - accuracy: 0.8332 - val_loss: 0.3808 - val_accuracy: 0.8438\n",
      "Epoch 69/300\n",
      "7200/7200 [==============================] - 1s 72us/step - loss: 0.4039 - accuracy: 0.8340 - val_loss: 0.3810 - val_accuracy: 0.8475\n",
      "Epoch 70/300\n",
      "7200/7200 [==============================] - 0s 67us/step - loss: 0.4036 - accuracy: 0.8315 - val_loss: 0.3819 - val_accuracy: 0.8413\n",
      "Epoch 71/300\n",
      "7200/7200 [==============================] - 0s 68us/step - loss: 0.4040 - accuracy: 0.8326 - val_loss: 0.3812 - val_accuracy: 0.8425\n",
      "Epoch 72/300\n",
      "7200/7200 [==============================] - 1s 74us/step - loss: 0.4039 - accuracy: 0.8329 - val_loss: 0.3814 - val_accuracy: 0.8400\n",
      "Epoch 73/300\n",
      "7200/7200 [==============================] - 1s 85us/step - loss: 0.4035 - accuracy: 0.8343 - val_loss: 0.3812 - val_accuracy: 0.8450\n",
      "Epoch 74/300\n",
      "7200/7200 [==============================] - 1s 78us/step - loss: 0.4036 - accuracy: 0.8321 - val_loss: 0.3801 - val_accuracy: 0.8462\n",
      "Epoch 75/300\n",
      "7200/7200 [==============================] - 1s 78us/step - loss: 0.4037 - accuracy: 0.8322 - val_loss: 0.3821 - val_accuracy: 0.8462\n",
      "Epoch 76/300\n",
      "7200/7200 [==============================] - 1s 75us/step - loss: 0.4036 - accuracy: 0.8342 - val_loss: 0.3814 - val_accuracy: 0.8425\n",
      "Epoch 77/300\n",
      "7200/7200 [==============================] - 1s 81us/step - loss: 0.4036 - accuracy: 0.8329 - val_loss: 0.3816 - val_accuracy: 0.8425\n",
      "Epoch 78/300\n",
      "7200/7200 [==============================] - 0s 68us/step - loss: 0.4036 - accuracy: 0.8338 - val_loss: 0.3828 - val_accuracy: 0.8475\n",
      "Epoch 79/300\n",
      "7200/7200 [==============================] - 0s 67us/step - loss: 0.4033 - accuracy: 0.8332 - val_loss: 0.3803 - val_accuracy: 0.8438\n",
      "Epoch 80/300\n",
      "7200/7200 [==============================] - 0s 67us/step - loss: 0.4036 - accuracy: 0.8335 - val_loss: 0.3802 - val_accuracy: 0.8425\n",
      "Epoch 81/300\n",
      "7200/7200 [==============================] - 1s 72us/step - loss: 0.4033 - accuracy: 0.8343 - val_loss: 0.3813 - val_accuracy: 0.8500\n",
      "Epoch 82/300\n",
      "7200/7200 [==============================] - 1s 71us/step - loss: 0.4032 - accuracy: 0.8329 - val_loss: 0.3814 - val_accuracy: 0.8475\n",
      "Epoch 83/300\n",
      "7200/7200 [==============================] - 0s 69us/step - loss: 0.4035 - accuracy: 0.8336 - val_loss: 0.3812 - val_accuracy: 0.8450\n",
      "Epoch 84/300\n",
      "7200/7200 [==============================] - 0s 67us/step - loss: 0.4032 - accuracy: 0.8324 - val_loss: 0.3812 - val_accuracy: 0.8450\n",
      "Epoch 85/300\n",
      "7200/7200 [==============================] - 1s 81us/step - loss: 0.4031 - accuracy: 0.8331 - val_loss: 0.3804 - val_accuracy: 0.8425\n",
      "Epoch 86/300\n",
      "7200/7200 [==============================] - 1s 88us/step - loss: 0.4033 - accuracy: 0.8338 - val_loss: 0.3801 - val_accuracy: 0.8487\n",
      "Epoch 87/300\n",
      "7200/7200 [==============================] - 1s 73us/step - loss: 0.4029 - accuracy: 0.8324 - val_loss: 0.3799 - val_accuracy: 0.8450\n",
      "Epoch 88/300\n",
      "7200/7200 [==============================] - 1s 70us/step - loss: 0.4031 - accuracy: 0.8344 - val_loss: 0.3802 - val_accuracy: 0.8438\n",
      "Epoch 89/300\n",
      "7200/7200 [==============================] - 1s 71us/step - loss: 0.4032 - accuracy: 0.8336 - val_loss: 0.3797 - val_accuracy: 0.8438\n",
      "Epoch 90/300\n",
      "7200/7200 [==============================] - 0s 67us/step - loss: 0.4032 - accuracy: 0.8336 - val_loss: 0.3791 - val_accuracy: 0.8438\n",
      "Epoch 91/300\n",
      "7200/7200 [==============================] - 0s 68us/step - loss: 0.4029 - accuracy: 0.8340 - val_loss: 0.3818 - val_accuracy: 0.8462\n",
      "Epoch 92/300\n",
      "7200/7200 [==============================] - 0s 66us/step - loss: 0.4031 - accuracy: 0.8328 - val_loss: 0.3799 - val_accuracy: 0.8438\n",
      "Epoch 93/300\n",
      "7200/7200 [==============================] - 1s 71us/step - loss: 0.4029 - accuracy: 0.8349 - val_loss: 0.3798 - val_accuracy: 0.8438\n",
      "Epoch 94/300\n",
      "7200/7200 [==============================] - 0s 67us/step - loss: 0.4030 - accuracy: 0.8340 - val_loss: 0.3803 - val_accuracy: 0.8450\n",
      "Epoch 95/300\n",
      "7200/7200 [==============================] - 1s 73us/step - loss: 0.4028 - accuracy: 0.8332 - val_loss: 0.3794 - val_accuracy: 0.8450\n",
      "Epoch 96/300\n",
      "7200/7200 [==============================] - 0s 68us/step - loss: 0.4030 - accuracy: 0.8336 - val_loss: 0.3796 - val_accuracy: 0.8450\n",
      "Epoch 97/300\n",
      "7200/7200 [==============================] - 1s 71us/step - loss: 0.4029 - accuracy: 0.8328 - val_loss: 0.3799 - val_accuracy: 0.8438\n",
      "Epoch 98/300\n",
      "7200/7200 [==============================] - 0s 67us/step - loss: 0.4026 - accuracy: 0.8342 - val_loss: 0.3833 - val_accuracy: 0.8512\n",
      "Epoch 99/300\n",
      "7200/7200 [==============================] - 1s 71us/step - loss: 0.4031 - accuracy: 0.8342 - val_loss: 0.3802 - val_accuracy: 0.8425\n",
      "Epoch 100/300\n",
      "7200/7200 [==============================] - 1s 71us/step - loss: 0.4029 - accuracy: 0.8343 - val_loss: 0.3798 - val_accuracy: 0.8462\n",
      "Epoch 101/300\n",
      "7200/7200 [==============================] - 1s 71us/step - loss: 0.4026 - accuracy: 0.8318 - val_loss: 0.3805 - val_accuracy: 0.8487\n",
      "Epoch 102/300\n",
      "7200/7200 [==============================] - 1s 71us/step - loss: 0.4030 - accuracy: 0.8336 - val_loss: 0.3793 - val_accuracy: 0.8438\n",
      "Epoch 103/300\n",
      "7200/7200 [==============================] - 1s 71us/step - loss: 0.4026 - accuracy: 0.8333 - val_loss: 0.3802 - val_accuracy: 0.8425\n",
      "Epoch 104/300\n",
      "7200/7200 [==============================] - 1s 70us/step - loss: 0.4025 - accuracy: 0.8332 - val_loss: 0.3797 - val_accuracy: 0.8438\n",
      "Epoch 105/300\n",
      "7200/7200 [==============================] - 1s 72us/step - loss: 0.4027 - accuracy: 0.8331 - val_loss: 0.3796 - val_accuracy: 0.8450\n",
      "Epoch 106/300\n",
      "7200/7200 [==============================] - 0s 67us/step - loss: 0.4021 - accuracy: 0.8354 - val_loss: 0.3810 - val_accuracy: 0.8487\n",
      "Epoch 107/300\n",
      "7200/7200 [==============================] - 1s 80us/step - loss: 0.4026 - accuracy: 0.8336 - val_loss: 0.3806 - val_accuracy: 0.8375\n",
      "Epoch 108/300\n",
      "7200/7200 [==============================] - 1s 72us/step - loss: 0.4026 - accuracy: 0.8336 - val_loss: 0.3790 - val_accuracy: 0.8425\n",
      "Epoch 109/300\n",
      "7200/7200 [==============================] - 1s 72us/step - loss: 0.4023 - accuracy: 0.8343 - val_loss: 0.3781 - val_accuracy: 0.8425\n",
      "Epoch 110/300\n",
      "7200/7200 [==============================] - 1s 74us/step - loss: 0.4027 - accuracy: 0.8338 - val_loss: 0.3790 - val_accuracy: 0.8462\n",
      "Epoch 111/300\n",
      "7200/7200 [==============================] - 1s 86us/step - loss: 0.4025 - accuracy: 0.8331 - val_loss: 0.3788 - val_accuracy: 0.8450\n"
     ]
    },
    {
     "name": "stdout",
     "output_type": "stream",
     "text": [
      "Epoch 112/300\n",
      "7200/7200 [==============================] - 1s 82us/step - loss: 0.4027 - accuracy: 0.8317 - val_loss: 0.3793 - val_accuracy: 0.8438\n",
      "Epoch 113/300\n",
      "7200/7200 [==============================] - 1s 82us/step - loss: 0.4025 - accuracy: 0.8343 - val_loss: 0.3791 - val_accuracy: 0.8462\n",
      "Epoch 114/300\n",
      "7200/7200 [==============================] - 1s 80us/step - loss: 0.4023 - accuracy: 0.8332 - val_loss: 0.3795 - val_accuracy: 0.8450\n",
      "Epoch 115/300\n",
      "7200/7200 [==============================] - 1s 76us/step - loss: 0.4023 - accuracy: 0.8338 - val_loss: 0.3791 - val_accuracy: 0.8438\n",
      "Epoch 116/300\n",
      "7200/7200 [==============================] - 1s 96us/step - loss: 0.4022 - accuracy: 0.8325 - val_loss: 0.3794 - val_accuracy: 0.8450\n",
      "Epoch 117/300\n",
      "7200/7200 [==============================] - 1s 90us/step - loss: 0.4021 - accuracy: 0.8351 - val_loss: 0.3804 - val_accuracy: 0.8462\n",
      "Epoch 118/300\n",
      "7200/7200 [==============================] - 1s 74us/step - loss: 0.4024 - accuracy: 0.8339 - val_loss: 0.3792 - val_accuracy: 0.8438\n",
      "Epoch 119/300\n",
      "7200/7200 [==============================] - 1s 80us/step - loss: 0.4021 - accuracy: 0.8329 - val_loss: 0.3799 - val_accuracy: 0.8400\n",
      "Epoch 120/300\n",
      "7200/7200 [==============================] - 1s 72us/step - loss: 0.4021 - accuracy: 0.8328 - val_loss: 0.3788 - val_accuracy: 0.8425\n",
      "Epoch 121/300\n",
      "7200/7200 [==============================] - 1s 81us/step - loss: 0.4021 - accuracy: 0.8351 - val_loss: 0.3807 - val_accuracy: 0.8450\n",
      "Epoch 122/300\n",
      "7200/7200 [==============================] - 1s 75us/step - loss: 0.4025 - accuracy: 0.8343 - val_loss: 0.3797 - val_accuracy: 0.8388\n",
      "Epoch 123/300\n",
      "7200/7200 [==============================] - 1s 73us/step - loss: 0.4025 - accuracy: 0.8335 - val_loss: 0.3795 - val_accuracy: 0.8462\n",
      "Epoch 124/300\n",
      "7200/7200 [==============================] - 1s 72us/step - loss: 0.4023 - accuracy: 0.8344 - val_loss: 0.3793 - val_accuracy: 0.8450\n",
      "Epoch 125/300\n",
      "7200/7200 [==============================] - 1s 72us/step - loss: 0.4021 - accuracy: 0.8346 - val_loss: 0.3811 - val_accuracy: 0.8462\n",
      "Epoch 126/300\n",
      "7200/7200 [==============================] - 1s 80us/step - loss: 0.4019 - accuracy: 0.8344 - val_loss: 0.3806 - val_accuracy: 0.8475\n",
      "Epoch 127/300\n",
      "7200/7200 [==============================] - 1s 72us/step - loss: 0.4020 - accuracy: 0.8340 - val_loss: 0.3795 - val_accuracy: 0.8462\n",
      "Epoch 128/300\n",
      "7200/7200 [==============================] - 1s 75us/step - loss: 0.4022 - accuracy: 0.8319 - val_loss: 0.3788 - val_accuracy: 0.8450\n",
      "Epoch 129/300\n",
      "7200/7200 [==============================] - 1s 73us/step - loss: 0.4020 - accuracy: 0.8340 - val_loss: 0.3786 - val_accuracy: 0.8438\n",
      "Epoch 130/300\n",
      "7200/7200 [==============================] - 1s 74us/step - loss: 0.4020 - accuracy: 0.8342 - val_loss: 0.3798 - val_accuracy: 0.8487\n",
      "Epoch 131/300\n",
      "7200/7200 [==============================] - 1s 72us/step - loss: 0.4017 - accuracy: 0.8343 - val_loss: 0.3791 - val_accuracy: 0.8438\n",
      "Epoch 132/300\n",
      "7200/7200 [==============================] - 1s 73us/step - loss: 0.4018 - accuracy: 0.8339 - val_loss: 0.3793 - val_accuracy: 0.8438\n",
      "Epoch 133/300\n",
      "7200/7200 [==============================] - 1s 71us/step - loss: 0.4020 - accuracy: 0.8354 - val_loss: 0.3799 - val_accuracy: 0.8475\n",
      "Epoch 134/300\n",
      "7200/7200 [==============================] - 1s 72us/step - loss: 0.4022 - accuracy: 0.8343 - val_loss: 0.3789 - val_accuracy: 0.8425\n",
      "Epoch 135/300\n",
      "7200/7200 [==============================] - 1s 73us/step - loss: 0.4018 - accuracy: 0.8344 - val_loss: 0.3796 - val_accuracy: 0.8475\n",
      "Epoch 136/300\n",
      "7200/7200 [==============================] - 1s 74us/step - loss: 0.4017 - accuracy: 0.8339 - val_loss: 0.3798 - val_accuracy: 0.8425\n",
      "Epoch 137/300\n",
      "7200/7200 [==============================] - 1s 72us/step - loss: 0.4016 - accuracy: 0.8339 - val_loss: 0.3798 - val_accuracy: 0.8475\n",
      "Epoch 138/300\n",
      "7200/7200 [==============================] - 1s 74us/step - loss: 0.4020 - accuracy: 0.8343 - val_loss: 0.3798 - val_accuracy: 0.8438\n",
      "Epoch 139/300\n",
      "7200/7200 [==============================] - 1s 75us/step - loss: 0.4019 - accuracy: 0.8342 - val_loss: 0.3795 - val_accuracy: 0.8462\n",
      "Epoch 140/300\n",
      "7200/7200 [==============================] - 1s 74us/step - loss: 0.4019 - accuracy: 0.8328 - val_loss: 0.3791 - val_accuracy: 0.8450\n",
      "Epoch 141/300\n",
      "7200/7200 [==============================] - 1s 73us/step - loss: 0.4019 - accuracy: 0.8339 - val_loss: 0.3791 - val_accuracy: 0.8413\n",
      "Epoch 142/300\n",
      "7200/7200 [==============================] - 1s 72us/step - loss: 0.4021 - accuracy: 0.8349 - val_loss: 0.3791 - val_accuracy: 0.8425\n",
      "Epoch 143/300\n",
      "7200/7200 [==============================] - 1s 72us/step - loss: 0.4017 - accuracy: 0.8339 - val_loss: 0.3794 - val_accuracy: 0.8475\n",
      "Epoch 144/300\n",
      "7200/7200 [==============================] - 1s 73us/step - loss: 0.4016 - accuracy: 0.8318 - val_loss: 0.3785 - val_accuracy: 0.8425\n",
      "Epoch 145/300\n",
      "7200/7200 [==============================] - 1s 74us/step - loss: 0.4021 - accuracy: 0.8360 - val_loss: 0.3789 - val_accuracy: 0.8413\n",
      "Epoch 146/300\n",
      "7200/7200 [==============================] - 1s 73us/step - loss: 0.4018 - accuracy: 0.8344 - val_loss: 0.3784 - val_accuracy: 0.8438\n",
      "Epoch 147/300\n",
      "7200/7200 [==============================] - 1s 74us/step - loss: 0.4016 - accuracy: 0.8332 - val_loss: 0.3797 - val_accuracy: 0.8413\n",
      "Epoch 148/300\n",
      "7200/7200 [==============================] - 1s 70us/step - loss: 0.4017 - accuracy: 0.8343 - val_loss: 0.3792 - val_accuracy: 0.8425\n",
      "Epoch 149/300\n",
      "7200/7200 [==============================] - 0s 69us/step - loss: 0.4016 - accuracy: 0.8340 - val_loss: 0.3792 - val_accuracy: 0.8425\n",
      "Epoch 150/300\n",
      "7200/7200 [==============================] - 1s 73us/step - loss: 0.4017 - accuracy: 0.8342 - val_loss: 0.3798 - val_accuracy: 0.8413\n",
      "Epoch 151/300\n",
      "7200/7200 [==============================] - 1s 81us/step - loss: 0.4017 - accuracy: 0.8354 - val_loss: 0.3793 - val_accuracy: 0.8462\n",
      "Epoch 152/300\n",
      "7200/7200 [==============================] - 1s 82us/step - loss: 0.4018 - accuracy: 0.8357 - val_loss: 0.3801 - val_accuracy: 0.8450\n",
      "Epoch 153/300\n",
      "7200/7200 [==============================] - 1s 80us/step - loss: 0.4018 - accuracy: 0.8344 - val_loss: 0.3801 - val_accuracy: 0.8462\n",
      "Epoch 154/300\n",
      "7200/7200 [==============================] - 0s 67us/step - loss: 0.4020 - accuracy: 0.8325 - val_loss: 0.3800 - val_accuracy: 0.8512\n",
      "Epoch 155/300\n",
      "7200/7200 [==============================] - 1s 72us/step - loss: 0.4015 - accuracy: 0.8350 - val_loss: 0.3793 - val_accuracy: 0.8512\n",
      "Epoch 156/300\n",
      "7200/7200 [==============================] - 1s 78us/step - loss: 0.4015 - accuracy: 0.8336 - val_loss: 0.3793 - val_accuracy: 0.8425\n",
      "Epoch 157/300\n",
      "7200/7200 [==============================] - 0s 69us/step - loss: 0.4013 - accuracy: 0.8347 - val_loss: 0.3807 - val_accuracy: 0.8500\n",
      "Epoch 158/300\n",
      "7200/7200 [==============================] - 1s 71us/step - loss: 0.4015 - accuracy: 0.8340 - val_loss: 0.3791 - val_accuracy: 0.8450\n",
      "Epoch 159/300\n",
      "7200/7200 [==============================] - 0s 69us/step - loss: 0.4012 - accuracy: 0.8351 - val_loss: 0.3802 - val_accuracy: 0.8487\n",
      "Epoch 160/300\n",
      "7200/7200 [==============================] - 1s 71us/step - loss: 0.4016 - accuracy: 0.8351 - val_loss: 0.3810 - val_accuracy: 0.8525\n",
      "Epoch 161/300\n",
      "7200/7200 [==============================] - 1s 75us/step - loss: 0.4016 - accuracy: 0.8343 - val_loss: 0.3799 - val_accuracy: 0.8450\n",
      "Epoch 162/300\n",
      "7200/7200 [==============================] - 1s 86us/step - loss: 0.4018 - accuracy: 0.8339 - val_loss: 0.3797 - val_accuracy: 0.8475\n",
      "Epoch 163/300\n",
      "7200/7200 [==============================] - 1s 79us/step - loss: 0.4017 - accuracy: 0.8340 - val_loss: 0.3790 - val_accuracy: 0.8462\n",
      "Epoch 164/300\n",
      "7200/7200 [==============================] - 1s 74us/step - loss: 0.4014 - accuracy: 0.8361 - val_loss: 0.3794 - val_accuracy: 0.8525\n",
      "Epoch 165/300\n",
      "7200/7200 [==============================] - 1s 70us/step - loss: 0.4019 - accuracy: 0.8333 - val_loss: 0.3788 - val_accuracy: 0.8438\n",
      "Epoch 166/300\n",
      "7200/7200 [==============================] - 1s 70us/step - loss: 0.4018 - accuracy: 0.8357 - val_loss: 0.3800 - val_accuracy: 0.8500\n",
      "Epoch 167/300\n"
     ]
    },
    {
     "name": "stdout",
     "output_type": "stream",
     "text": [
      "7200/7200 [==============================] - 0s 65us/step - loss: 0.4013 - accuracy: 0.8343 - val_loss: 0.3788 - val_accuracy: 0.8438\n",
      "Epoch 168/300\n",
      "7200/7200 [==============================] - 0s 65us/step - loss: 0.4018 - accuracy: 0.8340 - val_loss: 0.3799 - val_accuracy: 0.8525\n",
      "Epoch 169/300\n",
      "7200/7200 [==============================] - 0s 65us/step - loss: 0.4017 - accuracy: 0.8353 - val_loss: 0.3795 - val_accuracy: 0.8500\n",
      "Epoch 170/300\n",
      "7200/7200 [==============================] - 0s 66us/step - loss: 0.4011 - accuracy: 0.8336 - val_loss: 0.3801 - val_accuracy: 0.8450\n",
      "Epoch 171/300\n",
      "7200/7200 [==============================] - 0s 66us/step - loss: 0.4019 - accuracy: 0.8326 - val_loss: 0.3791 - val_accuracy: 0.8450\n",
      "Epoch 172/300\n",
      "7200/7200 [==============================] - 0s 67us/step - loss: 0.4014 - accuracy: 0.8344 - val_loss: 0.3810 - val_accuracy: 0.8450\n",
      "Epoch 173/300\n",
      "7200/7200 [==============================] - 0s 65us/step - loss: 0.4016 - accuracy: 0.8346 - val_loss: 0.3800 - val_accuracy: 0.8462\n",
      "Epoch 174/300\n",
      "7200/7200 [==============================] - 1s 72us/step - loss: 0.4014 - accuracy: 0.8331 - val_loss: 0.3796 - val_accuracy: 0.8438\n",
      "Epoch 175/300\n",
      "7200/7200 [==============================] - 1s 73us/step - loss: 0.4013 - accuracy: 0.8328 - val_loss: 0.3793 - val_accuracy: 0.8450\n",
      "Epoch 176/300\n",
      "7200/7200 [==============================] - 0s 66us/step - loss: 0.4013 - accuracy: 0.8347 - val_loss: 0.3786 - val_accuracy: 0.8438\n",
      "Epoch 177/300\n",
      "7200/7200 [==============================] - 0s 67us/step - loss: 0.4013 - accuracy: 0.8350 - val_loss: 0.3792 - val_accuracy: 0.8525\n",
      "Epoch 178/300\n",
      "7200/7200 [==============================] - 1s 72us/step - loss: 0.4012 - accuracy: 0.8332 - val_loss: 0.3790 - val_accuracy: 0.8450\n",
      "Epoch 179/300\n",
      "7200/7200 [==============================] - 0s 66us/step - loss: 0.4015 - accuracy: 0.8321 - val_loss: 0.3792 - val_accuracy: 0.8438\n",
      "Epoch 180/300\n",
      "7200/7200 [==============================] - 0s 67us/step - loss: 0.4014 - accuracy: 0.8343 - val_loss: 0.3786 - val_accuracy: 0.8438\n",
      "Epoch 181/300\n",
      "7200/7200 [==============================] - 0s 67us/step - loss: 0.4015 - accuracy: 0.8346 - val_loss: 0.3796 - val_accuracy: 0.8500\n",
      "Epoch 182/300\n",
      "7200/7200 [==============================] - 0s 66us/step - loss: 0.4014 - accuracy: 0.8349 - val_loss: 0.3795 - val_accuracy: 0.8450\n",
      "Epoch 183/300\n",
      "7200/7200 [==============================] - 0s 67us/step - loss: 0.4017 - accuracy: 0.8338 - val_loss: 0.3792 - val_accuracy: 0.8438\n",
      "Epoch 184/300\n",
      "7200/7200 [==============================] - 0s 65us/step - loss: 0.4015 - accuracy: 0.8367 - val_loss: 0.3795 - val_accuracy: 0.8487\n",
      "Epoch 185/300\n",
      "7200/7200 [==============================] - 0s 67us/step - loss: 0.4015 - accuracy: 0.8346 - val_loss: 0.3791 - val_accuracy: 0.8487\n",
      "Epoch 186/300\n",
      "7200/7200 [==============================] - 0s 68us/step - loss: 0.4014 - accuracy: 0.8347 - val_loss: 0.3790 - val_accuracy: 0.8475\n",
      "Epoch 187/300\n",
      "7200/7200 [==============================] - 0s 66us/step - loss: 0.4015 - accuracy: 0.8338 - val_loss: 0.3794 - val_accuracy: 0.8438\n",
      "Epoch 188/300\n",
      "7200/7200 [==============================] - 0s 65us/step - loss: 0.4013 - accuracy: 0.8343 - val_loss: 0.3794 - val_accuracy: 0.8450\n",
      "Epoch 189/300\n",
      "7200/7200 [==============================] - 0s 65us/step - loss: 0.4014 - accuracy: 0.8335 - val_loss: 0.3796 - val_accuracy: 0.8475\n",
      "Epoch 190/300\n",
      "7200/7200 [==============================] - 1s 70us/step - loss: 0.4012 - accuracy: 0.8351 - val_loss: 0.3783 - val_accuracy: 0.8438\n",
      "Epoch 191/300\n",
      "7200/7200 [==============================] - 0s 66us/step - loss: 0.4015 - accuracy: 0.8343 - val_loss: 0.3786 - val_accuracy: 0.8438\n",
      "Epoch 192/300\n",
      "7200/7200 [==============================] - 0s 67us/step - loss: 0.4015 - accuracy: 0.8338 - val_loss: 0.3793 - val_accuracy: 0.8512\n",
      "Epoch 193/300\n",
      "7200/7200 [==============================] - 0s 67us/step - loss: 0.4015 - accuracy: 0.8342 - val_loss: 0.3791 - val_accuracy: 0.8475\n",
      "Epoch 194/300\n",
      "7200/7200 [==============================] - 0s 68us/step - loss: 0.4007 - accuracy: 0.8342 - val_loss: 0.3802 - val_accuracy: 0.8425\n",
      "Epoch 195/300\n",
      "7200/7200 [==============================] - 0s 67us/step - loss: 0.4012 - accuracy: 0.8338 - val_loss: 0.3780 - val_accuracy: 0.8475\n",
      "Epoch 196/300\n",
      "7200/7200 [==============================] - 1s 73us/step - loss: 0.4015 - accuracy: 0.8332 - val_loss: 0.3791 - val_accuracy: 0.8462\n",
      "Epoch 197/300\n",
      "7200/7200 [==============================] - 0s 66us/step - loss: 0.4011 - accuracy: 0.8363 - val_loss: 0.3793 - val_accuracy: 0.8512\n",
      "Epoch 198/300\n",
      "7200/7200 [==============================] - 0s 65us/step - loss: 0.4013 - accuracy: 0.8346 - val_loss: 0.3789 - val_accuracy: 0.8438\n",
      "Epoch 199/300\n",
      "7200/7200 [==============================] - 0s 65us/step - loss: 0.4016 - accuracy: 0.8329 - val_loss: 0.3800 - val_accuracy: 0.8438\n",
      "Epoch 200/300\n",
      "7200/7200 [==============================] - 0s 65us/step - loss: 0.4012 - accuracy: 0.8333 - val_loss: 0.3802 - val_accuracy: 0.8462\n",
      "Epoch 201/300\n",
      "7200/7200 [==============================] - 0s 66us/step - loss: 0.4018 - accuracy: 0.8336 - val_loss: 0.3801 - val_accuracy: 0.8425\n",
      "Epoch 202/300\n",
      "7200/7200 [==============================] - 0s 67us/step - loss: 0.4015 - accuracy: 0.8340 - val_loss: 0.3796 - val_accuracy: 0.8438\n",
      "Epoch 203/300\n",
      "7200/7200 [==============================] - 0s 67us/step - loss: 0.4010 - accuracy: 0.8339 - val_loss: 0.3807 - val_accuracy: 0.8525\n",
      "Epoch 204/300\n",
      "7200/7200 [==============================] - 0s 67us/step - loss: 0.4013 - accuracy: 0.8340 - val_loss: 0.3798 - val_accuracy: 0.8438\n",
      "Epoch 205/300\n",
      "7200/7200 [==============================] - 1s 70us/step - loss: 0.4012 - accuracy: 0.8332 - val_loss: 0.3790 - val_accuracy: 0.8438\n",
      "Epoch 206/300\n",
      "7200/7200 [==============================] - 0s 67us/step - loss: 0.4013 - accuracy: 0.8347 - val_loss: 0.3790 - val_accuracy: 0.8425\n",
      "Epoch 207/300\n",
      "7200/7200 [==============================] - 0s 68us/step - loss: 0.4014 - accuracy: 0.8339 - val_loss: 0.3796 - val_accuracy: 0.8450\n",
      "Epoch 208/300\n",
      "7200/7200 [==============================] - 0s 67us/step - loss: 0.4012 - accuracy: 0.8336 - val_loss: 0.3792 - val_accuracy: 0.8475\n",
      "Epoch 209/300\n",
      "7200/7200 [==============================] - 0s 68us/step - loss: 0.4013 - accuracy: 0.8328 - val_loss: 0.3790 - val_accuracy: 0.8487\n",
      "Epoch 210/300\n",
      "7200/7200 [==============================] - 1s 70us/step - loss: 0.4015 - accuracy: 0.8347 - val_loss: 0.3804 - val_accuracy: 0.8462\n",
      "Epoch 211/300\n",
      "7200/7200 [==============================] - 1s 79us/step - loss: 0.4016 - accuracy: 0.8335 - val_loss: 0.3795 - val_accuracy: 0.8500\n",
      "Epoch 212/300\n",
      "7200/7200 [==============================] - 0s 66us/step - loss: 0.4014 - accuracy: 0.8335 - val_loss: 0.3794 - val_accuracy: 0.8475\n",
      "Epoch 213/300\n",
      "7200/7200 [==============================] - 0s 67us/step - loss: 0.4017 - accuracy: 0.8328 - val_loss: 0.3793 - val_accuracy: 0.8438\n",
      "Epoch 214/300\n",
      "7200/7200 [==============================] - 1s 70us/step - loss: 0.4012 - accuracy: 0.8347 - val_loss: 0.3797 - val_accuracy: 0.8487\n",
      "Epoch 215/300\n",
      "7200/7200 [==============================] - 0s 66us/step - loss: 0.4010 - accuracy: 0.8328 - val_loss: 0.3792 - val_accuracy: 0.8500\n",
      "Epoch 216/300\n",
      "7200/7200 [==============================] - 0s 69us/step - loss: 0.4014 - accuracy: 0.8351 - val_loss: 0.3797 - val_accuracy: 0.8425\n",
      "Epoch 217/300\n",
      "7200/7200 [==============================] - 0s 67us/step - loss: 0.4017 - accuracy: 0.8329 - val_loss: 0.3801 - val_accuracy: 0.8475\n",
      "Epoch 218/300\n",
      "7200/7200 [==============================] - 0s 67us/step - loss: 0.4011 - accuracy: 0.8336 - val_loss: 0.3789 - val_accuracy: 0.8450\n",
      "Epoch 219/300\n",
      "7200/7200 [==============================] - 1s 71us/step - loss: 0.4009 - accuracy: 0.8342 - val_loss: 0.3801 - val_accuracy: 0.8487\n",
      "Epoch 220/300\n",
      "7200/7200 [==============================] - 0s 66us/step - loss: 0.4015 - accuracy: 0.8342 - val_loss: 0.3792 - val_accuracy: 0.8462\n",
      "Epoch 221/300\n",
      "7200/7200 [==============================] - 1s 71us/step - loss: 0.4007 - accuracy: 0.8329 - val_loss: 0.3795 - val_accuracy: 0.8438\n",
      "Epoch 222/300\n"
     ]
    },
    {
     "name": "stdout",
     "output_type": "stream",
     "text": [
      "7200/7200 [==============================] - 0s 66us/step - loss: 0.4014 - accuracy: 0.8335 - val_loss: 0.3802 - val_accuracy: 0.8487\n",
      "Epoch 223/300\n",
      "7200/7200 [==============================] - 0s 67us/step - loss: 0.4014 - accuracy: 0.8326 - val_loss: 0.3794 - val_accuracy: 0.8487\n",
      "Epoch 224/300\n",
      "7200/7200 [==============================] - 0s 67us/step - loss: 0.4012 - accuracy: 0.8351 - val_loss: 0.3790 - val_accuracy: 0.8475\n",
      "Epoch 225/300\n",
      "7200/7200 [==============================] - 0s 68us/step - loss: 0.4011 - accuracy: 0.8338 - val_loss: 0.3809 - val_accuracy: 0.8500\n",
      "Epoch 226/300\n",
      "7200/7200 [==============================] - 0s 66us/step - loss: 0.4011 - accuracy: 0.8339 - val_loss: 0.3796 - val_accuracy: 0.8450\n",
      "Epoch 227/300\n",
      "7200/7200 [==============================] - 0s 67us/step - loss: 0.4013 - accuracy: 0.8343 - val_loss: 0.3792 - val_accuracy: 0.8487\n",
      "Epoch 228/300\n",
      "7200/7200 [==============================] - 0s 67us/step - loss: 0.4013 - accuracy: 0.8353 - val_loss: 0.3787 - val_accuracy: 0.8462\n",
      "Epoch 229/300\n",
      "7200/7200 [==============================] - 0s 68us/step - loss: 0.4014 - accuracy: 0.8343 - val_loss: 0.3803 - val_accuracy: 0.8438\n",
      "Epoch 230/300\n",
      "7200/7200 [==============================] - 0s 67us/step - loss: 0.4014 - accuracy: 0.8338 - val_loss: 0.3802 - val_accuracy: 0.8462\n",
      "Epoch 231/300\n",
      "7200/7200 [==============================] - 0s 68us/step - loss: 0.4012 - accuracy: 0.8340 - val_loss: 0.3804 - val_accuracy: 0.8438\n",
      "Epoch 232/300\n",
      "7200/7200 [==============================] - 1s 73us/step - loss: 0.4014 - accuracy: 0.8332 - val_loss: 0.3801 - val_accuracy: 0.8450\n",
      "Epoch 233/300\n",
      "7200/7200 [==============================] - 1s 80us/step - loss: 0.4012 - accuracy: 0.8336 - val_loss: 0.3808 - val_accuracy: 0.8438\n",
      "Epoch 234/300\n",
      "7200/7200 [==============================] - 1s 86us/step - loss: 0.4018 - accuracy: 0.8339 - val_loss: 0.3794 - val_accuracy: 0.8475\n",
      "Epoch 235/300\n",
      "7200/7200 [==============================] - 1s 79us/step - loss: 0.4014 - accuracy: 0.8331 - val_loss: 0.3793 - val_accuracy: 0.8450\n",
      "Epoch 236/300\n",
      "7200/7200 [==============================] - 1s 89us/step - loss: 0.4014 - accuracy: 0.8329 - val_loss: 0.3793 - val_accuracy: 0.8462\n",
      "Epoch 237/300\n",
      "7200/7200 [==============================] - 1s 78us/step - loss: 0.4010 - accuracy: 0.8335 - val_loss: 0.3785 - val_accuracy: 0.8462\n",
      "Epoch 238/300\n",
      "7200/7200 [==============================] - 1s 75us/step - loss: 0.4013 - accuracy: 0.8342 - val_loss: 0.3790 - val_accuracy: 0.8487\n",
      "Epoch 239/300\n",
      "7200/7200 [==============================] - 1s 79us/step - loss: 0.4012 - accuracy: 0.8340 - val_loss: 0.3800 - val_accuracy: 0.8438\n",
      "Epoch 240/300\n",
      "7200/7200 [==============================] - 1s 78us/step - loss: 0.4011 - accuracy: 0.8332 - val_loss: 0.3792 - val_accuracy: 0.8438\n",
      "Epoch 241/300\n",
      "7200/7200 [==============================] - 1s 75us/step - loss: 0.4013 - accuracy: 0.8339 - val_loss: 0.3795 - val_accuracy: 0.8462\n",
      "Epoch 242/300\n",
      "7200/7200 [==============================] - 1s 75us/step - loss: 0.4009 - accuracy: 0.8339 - val_loss: 0.3800 - val_accuracy: 0.8438\n",
      "Epoch 243/300\n",
      "7200/7200 [==============================] - 1s 79us/step - loss: 0.4011 - accuracy: 0.8346 - val_loss: 0.3798 - val_accuracy: 0.8438\n",
      "Epoch 244/300\n",
      "7200/7200 [==============================] - 1s 76us/step - loss: 0.4013 - accuracy: 0.8342 - val_loss: 0.3803 - val_accuracy: 0.8425\n",
      "Epoch 245/300\n",
      "7200/7200 [==============================] - 1s 79us/step - loss: 0.4012 - accuracy: 0.8344 - val_loss: 0.3800 - val_accuracy: 0.8450\n",
      "Epoch 246/300\n",
      "7200/7200 [==============================] - 1s 78us/step - loss: 0.4013 - accuracy: 0.8338 - val_loss: 0.3793 - val_accuracy: 0.8450\n",
      "Epoch 247/300\n",
      "7200/7200 [==============================] - 1s 78us/step - loss: 0.4014 - accuracy: 0.8347 - val_loss: 0.3790 - val_accuracy: 0.8450\n",
      "Epoch 248/300\n",
      "7200/7200 [==============================] - 1s 74us/step - loss: 0.4014 - accuracy: 0.8342 - val_loss: 0.3795 - val_accuracy: 0.8450\n",
      "Epoch 249/300\n",
      "7200/7200 [==============================] - 1s 78us/step - loss: 0.4011 - accuracy: 0.8349 - val_loss: 0.3793 - val_accuracy: 0.8425\n",
      "Epoch 250/300\n",
      "7200/7200 [==============================] - 1s 75us/step - loss: 0.4014 - accuracy: 0.8343 - val_loss: 0.3807 - val_accuracy: 0.8413\n",
      "Epoch 251/300\n",
      "7200/7200 [==============================] - 1s 81us/step - loss: 0.4016 - accuracy: 0.8360 - val_loss: 0.3801 - val_accuracy: 0.8487\n",
      "Epoch 252/300\n",
      "7200/7200 [==============================] - 1s 79us/step - loss: 0.4011 - accuracy: 0.8344 - val_loss: 0.3790 - val_accuracy: 0.8462\n",
      "Epoch 253/300\n",
      "7200/7200 [==============================] - 1s 78us/step - loss: 0.4010 - accuracy: 0.8346 - val_loss: 0.3800 - val_accuracy: 0.8450\n",
      "Epoch 254/300\n",
      "7200/7200 [==============================] - 1s 78us/step - loss: 0.4009 - accuracy: 0.8335 - val_loss: 0.3809 - val_accuracy: 0.8438\n",
      "Epoch 255/300\n",
      "7200/7200 [==============================] - 1s 86us/step - loss: 0.4014 - accuracy: 0.8347 - val_loss: 0.3802 - val_accuracy: 0.8438\n",
      "Epoch 256/300\n",
      "7200/7200 [==============================] - 1s 87us/step - loss: 0.4017 - accuracy: 0.8342 - val_loss: 0.3801 - val_accuracy: 0.8400\n",
      "Epoch 257/300\n",
      "7200/7200 [==============================] - 1s 87us/step - loss: 0.4013 - accuracy: 0.8344 - val_loss: 0.3809 - val_accuracy: 0.8450\n",
      "Epoch 258/300\n",
      "7200/7200 [==============================] - 1s 87us/step - loss: 0.4012 - accuracy: 0.8346 - val_loss: 0.3808 - val_accuracy: 0.8438\n",
      "Epoch 259/300\n",
      "7200/7200 [==============================] - 1s 103us/step - loss: 0.4011 - accuracy: 0.8344 - val_loss: 0.3802 - val_accuracy: 0.8450\n",
      "Epoch 260/300\n",
      "7200/7200 [==============================] - 1s 87us/step - loss: 0.4012 - accuracy: 0.8346 - val_loss: 0.3792 - val_accuracy: 0.8425\n",
      "Epoch 261/300\n",
      "7200/7200 [==============================] - 1s 87us/step - loss: 0.4011 - accuracy: 0.8350 - val_loss: 0.3797 - val_accuracy: 0.8450\n",
      "Epoch 262/300\n",
      "7200/7200 [==============================] - 1s 88us/step - loss: 0.4012 - accuracy: 0.8354 - val_loss: 0.3782 - val_accuracy: 0.8475\n",
      "Epoch 263/300\n",
      "7200/7200 [==============================] - 1s 86us/step - loss: 0.4010 - accuracy: 0.8332 - val_loss: 0.3793 - val_accuracy: 0.8462\n",
      "Epoch 264/300\n",
      "7200/7200 [==============================] - 1s 88us/step - loss: 0.4012 - accuracy: 0.8360 - val_loss: 0.3795 - val_accuracy: 0.8425\n",
      "Epoch 265/300\n",
      "7200/7200 [==============================] - 1s 88us/step - loss: 0.4013 - accuracy: 0.8354 - val_loss: 0.3793 - val_accuracy: 0.8462\n",
      "Epoch 266/300\n",
      "7200/7200 [==============================] - 1s 87us/step - loss: 0.4013 - accuracy: 0.8346 - val_loss: 0.3796 - val_accuracy: 0.8475\n",
      "Epoch 267/300\n",
      "7200/7200 [==============================] - 1s 86us/step - loss: 0.4007 - accuracy: 0.8356 - val_loss: 0.3807 - val_accuracy: 0.8525\n",
      "Epoch 268/300\n",
      "7200/7200 [==============================] - 1s 89us/step - loss: 0.4010 - accuracy: 0.8349 - val_loss: 0.3794 - val_accuracy: 0.8438\n",
      "Epoch 269/300\n",
      "7200/7200 [==============================] - 1s 87us/step - loss: 0.4011 - accuracy: 0.8349 - val_loss: 0.3802 - val_accuracy: 0.8487\n",
      "Epoch 270/300\n",
      "7200/7200 [==============================] - 1s 87us/step - loss: 0.4014 - accuracy: 0.8343 - val_loss: 0.3790 - val_accuracy: 0.8438\n",
      "Epoch 271/300\n",
      "7200/7200 [==============================] - 1s 86us/step - loss: 0.4010 - accuracy: 0.8358 - val_loss: 0.3794 - val_accuracy: 0.8413\n",
      "Epoch 272/300\n",
      "7200/7200 [==============================] - 1s 87us/step - loss: 0.4011 - accuracy: 0.8342 - val_loss: 0.3795 - val_accuracy: 0.8425\n",
      "Epoch 273/300\n",
      "7200/7200 [==============================] - 1s 87us/step - loss: 0.4013 - accuracy: 0.8333 - val_loss: 0.3799 - val_accuracy: 0.8438\n",
      "Epoch 274/300\n",
      "7200/7200 [==============================] - 1s 87us/step - loss: 0.4009 - accuracy: 0.8349 - val_loss: 0.3784 - val_accuracy: 0.8450\n",
      "Epoch 275/300\n",
      "7200/7200 [==============================] - 1s 87us/step - loss: 0.4015 - accuracy: 0.8350 - val_loss: 0.3792 - val_accuracy: 0.8425\n",
      "Epoch 276/300\n",
      "7200/7200 [==============================] - 1s 89us/step - loss: 0.4009 - accuracy: 0.8340 - val_loss: 0.3796 - val_accuracy: 0.8462\n",
      "Epoch 277/300\n"
     ]
    },
    {
     "name": "stdout",
     "output_type": "stream",
     "text": [
      "7200/7200 [==============================] - 1s 82us/step - loss: 0.4009 - accuracy: 0.8360 - val_loss: 0.3808 - val_accuracy: 0.8512\n",
      "Epoch 278/300\n",
      "7200/7200 [==============================] - 1s 83us/step - loss: 0.4015 - accuracy: 0.8344 - val_loss: 0.3794 - val_accuracy: 0.8438\n",
      "Epoch 279/300\n",
      "7200/7200 [==============================] - 1s 86us/step - loss: 0.4009 - accuracy: 0.8344 - val_loss: 0.3800 - val_accuracy: 0.8462\n",
      "Epoch 280/300\n",
      "7200/7200 [==============================] - 1s 79us/step - loss: 0.4012 - accuracy: 0.8349 - val_loss: 0.3791 - val_accuracy: 0.8438\n",
      "Epoch 281/300\n",
      "7200/7200 [==============================] - 1s 83us/step - loss: 0.4013 - accuracy: 0.8340 - val_loss: 0.3790 - val_accuracy: 0.8475\n",
      "Epoch 282/300\n",
      "7200/7200 [==============================] - 1s 91us/step - loss: 0.4006 - accuracy: 0.8344 - val_loss: 0.3801 - val_accuracy: 0.8425\n",
      "Epoch 283/300\n",
      "7200/7200 [==============================] - 1s 93us/step - loss: 0.4016 - accuracy: 0.8332 - val_loss: 0.3794 - val_accuracy: 0.8462\n",
      "Epoch 284/300\n",
      "7200/7200 [==============================] - 1s 93us/step - loss: 0.4011 - accuracy: 0.8344 - val_loss: 0.3811 - val_accuracy: 0.8438\n",
      "Epoch 285/300\n",
      "7200/7200 [==============================] - 1s 96us/step - loss: 0.4008 - accuracy: 0.8354 - val_loss: 0.3806 - val_accuracy: 0.8413\n",
      "Epoch 286/300\n",
      "7200/7200 [==============================] - 1s 97us/step - loss: 0.4011 - accuracy: 0.8343 - val_loss: 0.3814 - val_accuracy: 0.8512\n",
      "Epoch 287/300\n",
      "7200/7200 [==============================] - 1s 79us/step - loss: 0.4008 - accuracy: 0.8342 - val_loss: 0.3796 - val_accuracy: 0.8450\n",
      "Epoch 288/300\n",
      "7200/7200 [==============================] - 1s 79us/step - loss: 0.4012 - accuracy: 0.8351 - val_loss: 0.3789 - val_accuracy: 0.8462\n",
      "Epoch 289/300\n",
      "7200/7200 [==============================] - 1s 79us/step - loss: 0.4007 - accuracy: 0.8340 - val_loss: 0.3800 - val_accuracy: 0.8462\n",
      "Epoch 290/300\n",
      "7200/7200 [==============================] - 1s 87us/step - loss: 0.4010 - accuracy: 0.8336 - val_loss: 0.3805 - val_accuracy: 0.8438\n",
      "Epoch 291/300\n",
      "7200/7200 [==============================] - 1s 76us/step - loss: 0.4012 - accuracy: 0.8342 - val_loss: 0.3802 - val_accuracy: 0.8462\n",
      "Epoch 292/300\n",
      "7200/7200 [==============================] - 1s 80us/step - loss: 0.4010 - accuracy: 0.8335 - val_loss: 0.3794 - val_accuracy: 0.8450\n",
      "Epoch 293/300\n",
      "7200/7200 [==============================] - 1s 79us/step - loss: 0.4008 - accuracy: 0.8339 - val_loss: 0.3793 - val_accuracy: 0.8487\n",
      "Epoch 294/300\n",
      "7200/7200 [==============================] - 1s 95us/step - loss: 0.4011 - accuracy: 0.8342 - val_loss: 0.3791 - val_accuracy: 0.8450\n",
      "Epoch 295/300\n",
      "7200/7200 [==============================] - 1s 103us/step - loss: 0.4013 - accuracy: 0.8346 - val_loss: 0.3793 - val_accuracy: 0.8425\n",
      "Epoch 296/300\n",
      "7200/7200 [==============================] - 1s 101us/step - loss: 0.4013 - accuracy: 0.8343 - val_loss: 0.3792 - val_accuracy: 0.8450\n",
      "Epoch 297/300\n",
      "7200/7200 [==============================] - 1s 95us/step - loss: 0.4009 - accuracy: 0.8339 - val_loss: 0.3802 - val_accuracy: 0.8462\n",
      "Epoch 298/300\n",
      "7200/7200 [==============================] - 1s 96us/step - loss: 0.4012 - accuracy: 0.8346 - val_loss: 0.3788 - val_accuracy: 0.8475\n",
      "Epoch 299/300\n",
      "7200/7200 [==============================] - 1s 95us/step - loss: 0.4011 - accuracy: 0.8333 - val_loss: 0.3786 - val_accuracy: 0.8450\n",
      "Epoch 300/300\n",
      "7200/7200 [==============================] - 1s 80us/step - loss: 0.4016 - accuracy: 0.8338 - val_loss: 0.3802 - val_accuracy: 0.8487\n"
     ]
    }
   ],
   "source": [
    "history = classifier.fit(X_train, y_train, validation_split=0.1, batch_size=25, epochs=300)"
   ]
  },
  {
   "cell_type": "code",
   "execution_count": 31,
   "metadata": {},
   "outputs": [
    {
     "data": {
      "text/plain": [
       "[<matplotlib.lines.Line2D at 0x25349383048>]"
      ]
     },
     "execution_count": 31,
     "metadata": {},
     "output_type": "execute_result"
    },
    {
     "data": {
      "image/png": "[encoded data removed]",
      "text/plain": [
       "<Figure size 432x288 with 1 Axes>"
      ]
     },
     "metadata": {
      "needs_background": "light"
     },
     "output_type": "display_data"
    }
   ],
   "source": [
    "plt.plot(history.history['accuracy'], linewidth=3)\n",
    "plt.plot(history.history['val_accuracy'], color='red')"
   ]
  },
  {
   "cell_type": "code",
   "execution_count": 101,
   "metadata": {},
   "outputs": [],
   "source": [
    "# Prediction of X_test\n",
    "y_pred = classifier.predict(X_test)"
   ]
  },
  {
   "cell_type": "code",
   "execution_count": 102,
   "metadata": {},
   "outputs": [],
   "source": [
    "# Making them to 0 and 1 instead of probabs\n",
    "y_pred = (y_pred > 0.5)"
   ]
  },
  {
   "cell_type": "code",
   "execution_count": 103,
   "metadata": {},
   "outputs": [
    {
     "data": {
      "text/plain": [
       "array([[False],\n",
       "       [False],\n",
       "       [False],\n",
       "       ...,\n",
       "       [False],\n",
       "       [False],\n",
       "       [False]])"
      ]
     },
     "execution_count": 103,
     "metadata": {},
     "output_type": "execute_result"
    }
   ],
   "source": [
    "y_pred"
   ]
  },
  {
   "cell_type": "code",
   "execution_count": 104,
   "metadata": {},
   "outputs": [
    {
     "data": {
      "text/plain": [
       "array([[1550,   45],\n",
       "       [ 266,  139]], dtype=int64)"
      ]
     },
     "execution_count": 104,
     "metadata": {},
     "output_type": "execute_result"
    }
   ],
   "source": [
    "# Generating the confusion matrix\n",
    "\n",
    "confusion_matrix(y_test, y_pred)"
   ]
  },
  {
   "cell_type": "code",
   "execution_count": 105,
   "metadata": {},
   "outputs": [],
   "source": [
    "accuracy = (1551 + 128)/2000"
   ]
  },
  {
   "cell_type": "code",
   "execution_count": 106,
   "metadata": {},
   "outputs": [
    {
     "data": {
      "text/plain": [
       "0.8395"
      ]
     },
     "execution_count": 106,
     "metadata": {},
     "output_type": "execute_result"
    }
   ],
   "source": [
    "# this is the accuracy of the unseen test set\n",
    "accuracy"
   ]
  },
  {
   "cell_type": "code",
   "execution_count": 107,
   "metadata": {},
   "outputs": [
    {
     "data": {
      "text/plain": [
       "<keras.engine.sequential.Sequential at 0x20b84e0f3c8>"
      ]
     },
     "execution_count": 107,
     "metadata": {},
     "output_type": "execute_result"
    }
   ],
   "source": [
    "classifier"
   ]
  },
  {
   "cell_type": "code",
   "execution_count": 108,
   "metadata": {},
   "outputs": [],
   "source": [
    "# now what if we want to do a manual input\n",
    "\n",
    "# create the input matrix similar to X_train\n",
    "new_input = [[0.0, 0.0, 600, 1, 40, 3, 60000, 2, 1, 1, 50000]]"
   ]
  },
  {
   "cell_type": "code",
   "execution_count": 109,
   "metadata": {},
   "outputs": [],
   "source": [
    "# Feature scale it\n",
    "new_input_scaled = sc.transform(new_input)"
   ]
  },
  {
   "cell_type": "code",
   "execution_count": 110,
   "metadata": {},
   "outputs": [
    {
     "data": {
      "text/plain": [
       "array([[-0.5698444 , -0.57369368, -0.52111599,  0.91601335,  0.10961719,\n",
       "        -0.68538967, -0.2569057 ,  0.8095029 ,  0.64259497,  0.9687384 ,\n",
       "        -0.87203322]])"
      ]
     },
     "execution_count": 110,
     "metadata": {},
     "output_type": "execute_result"
    }
   ],
   "source": [
    "new_input_scaled"
   ]
  },
  {
   "cell_type": "code",
   "execution_count": 117,
   "metadata": {},
   "outputs": [
    {
     "name": "stdout",
     "output_type": "stream",
     "text": [
      "He will stay with the bank\n",
      "Percentage of chance that we will leave the bank is  6.138348951935768 %\n"
     ]
    }
   ],
   "source": [
    "# Predict using the classifier\n",
    "\n",
    "answer = classifier.predict(new_input_scaled)\n",
    "if answer[0][0] > 0.5:\n",
    "    print('He will leave the ban\"k')\n",
    "else:\n",
    "    print('He will stay with the bank')\n",
    "print('Percentage of chance that we will leave the bank is ', answer[0][0]*100 , \"%\")"
   ]
  },
  {
   "cell_type": "code",
   "execution_count": 119,
   "metadata": {},
   "outputs": [
    {
     "name": "stdout",
     "output_type": "stream",
     "text": [
      "Saved model to disk\n"
     ]
    }
   ],
   "source": [
    "# serialize weights to HDF5\n",
    "classifier.save_weights(\"modelclass.h5\")\n",
    "print(\"Saved model to disk\")"
   ]
  },
  {
   "cell_type": "code",
   "execution_count": 120,
   "metadata": {},
   "outputs": [
    {
     "name": "stdout",
     "output_type": "stream",
     "text": [
      "Loaded model from disk\n"
     ]
    }
   ],
   "source": [
    "###---------------LATER-----------------\n",
    "# load weights into new model\n",
    "classifier.load_weights(\"modelclass.h5\")\n",
    "print(\"Loaded model from disk\")"
   ]
  },
  {
   "cell_type": "code",
   "execution_count": null,
   "metadata": {},
   "outputs": [],
   "source": []
  }
 ],
 "metadata": {
  "kernelspec": {
   "display_name": "Python 3",
   "language": "python",
   "name": "python3"
  },
  "language_info": {
   "codemirror_mode": {
    "name": "ipython",
    "version": 3
   },
   "file_extension": ".py",
   "mimetype": "text/x-python",
   "name": "python",
   "nbconvert_exporter": "python",
   "pygments_lexer": "ipython3",
   "version": "3.6.8"
  }
 },
 "nbformat": 4,
 "nbformat_minor": 4
}
